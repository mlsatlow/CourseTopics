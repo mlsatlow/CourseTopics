{
 "cells": [
  {
   "cell_type": "code",
   "execution_count": null,
   "metadata": {},
   "outputs": [],
   "source": [
    "# Importing modules\n",
    "import pandas as pd\n",
    "import os\n",
    "import nltk\n",
    "#nltk.download('stopwords')\n",
    "#nltk.download ('wordnet')\n",
    "#nltk.download('omw-1.4')\n",
    "from nltk.corpus import stopwords\n",
    "from nltk.stem.wordnet import WordNetLemmatizer\n",
    "import string\n",
    "# Importing Gensim\n",
    "import gensim\n",
    "from gensim import corpora\n",
    "from gensim.utils import simple_preprocess\n",
    "import gensim.corpora as corpora\n"
   ]
  },
  {
   "cell_type": "code",
   "execution_count": null,
   "metadata": {},
   "outputs": [],
   "source": [
    "#Download all papers as a zip file.  Extract them to docx in your folder, XXX.  Replace XXX with name of the folder.\n",
    "#In the same folder, each docx file will be converted into a txt file.\n",
    "import os\n",
    "import docx2txt\n",
    "import io\n",
    "\n",
    "# Get the folder name\n",
    "folder_name = \"YOUR FOLDER NAME\"\n",
    "\n",
    "# Iterate over the folder entries\n",
    "for entry in os.listdir(folder_name):\n",
    "\n",
    "    # Check if the entry is a docx file\n",
    "    if entry.endswith(\".docx\"):\n",
    "\n",
    "        # Get the docx file content\n",
    "        with open(os.path.join(folder_name, entry), \"rb\") as docx_file:\n",
    "            docx_content = docx_file.read()\n",
    "\n",
    "        # Convert the docx content to text\n",
    "        with io.BytesIO(docx_content) as bytes_io:\n",
    "            txt_content = docx2txt.process(bytes_io)\n",
    "\n",
    "        # Write the text content to a file\n",
    "        with open(os.path.join(folder_name, entry[:-5] + \".txt\"), \"w\", encoding=\"utf-8\") as txt_file:\n",
    "            txt_file.write(txt_content)\n",
    "\n",
    "print(\"All done!\")"
   ]
  },
  {
   "cell_type": "code",
   "execution_count": null,
   "metadata": {},
   "outputs": [],
   "source": [
    "# find all the txt files in the dataset folder.  Every XXX you should replace with your own folder/files\n",
    "inputs = []\n",
    "for file in os.listdir(folder_name):\n",
    "    if file.endswith(\".txt\"):\n",
    "        inputs.append(os.path.join(folder_name, file))\n",
    " \n",
    " \n",
    "# concatanate all txt files in a file called merged_file.txt\n",
    "with open('merged_file.txt', 'w', encoding=\"utf-8\") as outfile:\n",
    "    for fname in inputs:\n",
    "        with open(fname, encoding=\"utf-8\", errors='ignore') as infile:\n",
    "            outfile.write(infile.read())"
   ]
  },
  {
   "cell_type": "code",
   "execution_count": null,
   "metadata": {},
   "outputs": [],
   "source": [
    "#calls the merged file doc_complete\n",
    "with open('merged_file.txt',encoding=\"utf-8\") as f:\n",
    "    doc_complete=f.readlines()"
   ]
  },
  {
   "cell_type": "code",
   "execution_count": null,
   "metadata": {},
   "outputs": [],
   "source": [
    "#preprocesses the text.  The stop_words variable is extended based on the need from the files. Result is list of lists\n",
    "nltk.download('stopwords')\n",
    "from nltk.corpus import stopwords\n",
    "stop_words = stopwords.words('english')\n",
    "stop_words.extend (['could','overall','able','time','thing','way','made','something','course','would','think','life','semester','good','professor','satlow',\n",
    "                    'also','well','really','may','xmln','iqr', 'ukɠh', 'rx', 'utgt', 'rkuj', 'gh', 'ce', 'hi', 'aιiq', 'kjh', 'xp', 'jv', 'mbc', 'idk', 'qk', 'goͼ', 'vf', 'gafқ', 'final', 'reflective', 'essay', 'vƃښl', 'os', 'pk', 'word', 'settings', 'xmln', 'uzx', 'uդ', 'fh', 'kr', 'dgjcwx', 'dsh', 'jhp', 'pk', 'word', 'numbering', 'xmlmnpk', 'pk', 'word', 'settings', 'xmln', 'uzx', 'uդ', 'fh', 'kr', 'dgjcwx', 'dsh', 'jhp', 'pk', 'ߤlz', 'content_types', 'xml', 'ub袪', 'væ', 'qu', \"numbering\",\"reflection\",\"class\",'rels','one','like','happiness','pursuit'])                \n",
    "def sent_to_words(sentences):\n",
    "    for sentence in sentences:\n",
    "        # deacc=True removes punctuations\n",
    "        yield(gensim.utils.simple_preprocess(str(sentence), deacc=True))\n",
    "def remove_stopwords(texts):\n",
    "    return [[word for word in simple_preprocess(str(doc)) \n",
    "             if word not in stop_words] for doc in texts]\n",
    "data = doc_complete\n",
    "data_words = list(sent_to_words(data))\n",
    "# remove stop words\n",
    "data_words = remove_stopwords(data_words)\n",
    "print(data_words[:100])\n",
    "\n"
   ]
  },
  {
   "cell_type": "code",
   "execution_count": null,
   "metadata": {},
   "outputs": [],
   "source": [
    "#eliminates all of the empty lists within the list\n",
    "res = [ele for ele in data_words if ele != []]"
   ]
  },
  {
   "cell_type": "code",
   "execution_count": null,
   "metadata": {},
   "outputs": [],
   "source": [
    "#useful step for seeing frequencies and adjusting stop_words\n",
    "import pandas as pd\n",
    "pd.Series(res).value_counts()"
   ]
  },
  {
   "cell_type": "code",
   "execution_count": null,
   "metadata": {},
   "outputs": [],
   "source": [
    "data_words=res"
   ]
  },
  {
   "cell_type": "code",
   "execution_count": null,
   "metadata": {},
   "outputs": [],
   "source": [
    "#Prepares for topic modeling\n",
    "# Create Dictionary\n",
    "id2word = corpora.Dictionary(data_words)\n",
    "# Create Corpus\n",
    "texts = data_words\n",
    "# Term Document Frequency\n",
    "corpus = [id2word.doc2bow(text) for text in texts]\n",
    "# View\n",
    "print(corpus[:1][0][:30])"
   ]
  },
  {
   "cell_type": "code",
   "execution_count": null,
   "metadata": {},
   "outputs": [],
   "source": [
    "#Creates a file, data_words, that can either be printed out, cut, and pasted into a Word Cloud generator or used below to generate a word cloud\n",
    "res1 = [' '.join(ele) for ele in data_words]\n",
    "' '.join(str(e) for e in res1)\n",
    "string=' '.join([str(item) for item in res1])\n",
    "text_file=open (\"XXX\",\"w\", encoding=\"utf-8\")\n",
    "n=text_file.write(string)\n",
    "text_file.close()"
   ]
  },
  {
   "cell_type": "code",
   "execution_count": null,
   "metadata": {},
   "outputs": [],
   "source": [
    "#creates topic models.  You may need to experiment with the num_topics parameter\n",
    "from pprint import pprint\n",
    "# number of topics\n",
    "num_topics = 5\n",
    "# Build LDA model\n",
    "lda_model = gensim.models.LdaMulticore(corpus=corpus,\n",
    "                                       id2word=id2word,\n",
    "                                       num_topics=num_topics)\n",
    "# Print the Keyword in the topics\n",
    "pprint(lda_model.print_topics())\n",
    "doc_lda = lda_model[corpus]"
   ]
  },
  {
   "cell_type": "code",
   "execution_count": null,
   "metadata": {},
   "outputs": [],
   "source": [
    "#Creates the word cloud\n",
    "import matplotlib.pyplot as plt\n",
    "from wordcloud import WordCloud\n",
    "\n",
    "# Get the text to create the word cloud from\n",
    "text = data_words\n",
    "\n",
    "# Convert the list of lists to a string\n",
    "text = \" \".join(\" \".join(list) for list in text)\n",
    "\n",
    "# Create the word cloud object\n",
    "wordcloud = WordCloud(width=800, height=800, background_color=\"white\")\n",
    "\n",
    "# Generate the word cloud\n",
    "wordcloud.generate(text)\n",
    "\n",
    "# Plot the word cloud\n",
    "plt.imshow(wordcloud)\n",
    "plt.axis(\"off\")\n",
    "plt.show()"
   ]
  },
  {
   "cell_type": "code",
   "execution_count": null,
   "metadata": {},
   "outputs": [],
   "source": [
    "#Creates a jpg on your computer.  \n",
    "wordcloud.to_file(\"wordcloud.jpg\")"
   ]
  }
 ],
 "metadata": {
  "kernelspec": {
   "display_name": "Python 3",
   "language": "python",
   "name": "python3"
  },
  "language_info": {
   "codemirror_mode": {
    "name": "ipython",
    "version": 3
   },
   "file_extension": ".py",
   "mimetype": "text/x-python",
   "name": "python",
   "nbconvert_exporter": "python",
   "pygments_lexer": "ipython3",
   "version": "3.7.3"
  }
 },
 "nbformat": 4,
 "nbformat_minor": 5
}
